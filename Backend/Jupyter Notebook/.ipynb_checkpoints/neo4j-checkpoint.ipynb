{
 "cells": [
  {
   "cell_type": "markdown",
   "id": "5741038a",
   "metadata": {},
   "source": [
    "# 使用Python 操作图数据库\n",
    "\n",
    "    py2neo的neo4j数据库增删改查节点node、关系relationship、属性property操作\n",
    "    参考文章：https://blog.csdn.net/Jack001011/article/details/120312094\n"
   ]
  },
  {
   "cell_type": "code",
   "execution_count": 1,
   "id": "f622554e",
   "metadata": {},
   "outputs": [],
   "source": [
    "from py2neo import Graph, Node, Relationship, NodeMatcher, Subgraph, RelationshipMatcher"
   ]
  },
  {
   "cell_type": "code",
   "execution_count": 2,
   "id": "b8dcb50a",
   "metadata": {},
   "outputs": [],
   "source": [
    "g = Graph('http://localhost:7474', auth=('neo4j', 'deep-diary'))\n",
    "matcher = NodeMatcher(g)\n",
    "r_matcher = RelationshipMatcher(g)"
   ]
  },
  {
   "cell_type": "code",
   "execution_count": 3,
   "id": "9c23062a",
   "metadata": {},
   "outputs": [],
   "source": [
    "# 函数的定义集中放在这里吧\n",
    "def match_node(m_graph, m_label, m_attrs):\n",
    "    m_n = \"_.name=\" + \"\\'\" + m_attrs['name'] + \"\\'\"\n",
    "    matcher = NodeMatcher(m_graph)\n",
    "    re_value = matcher.match(m_label).where(m_n).first()\n",
    "    return re_value\n",
    "\n",
    "\n",
    "def match_relationship_by_note(m_graph, node1, node2):\n",
    "    r_matcher = RelationshipMatcher(m_graph)\n",
    "    relation = r_matcher.match(nodes=[node1, node2]).first()  # 查找关系\n",
    "    return relation\n",
    "\n",
    "\n",
    "# relation = r_matcher.match(nodes=[node1, node2]).first()  # 查找关系\n",
    "\n",
    "# 创建节点\n",
    "def create_note(m_graph, m_label, m_attrs):\n",
    "    re_value = match_node(m_graph, m_label, m_attrs)\n",
    "    print(re_value)\n",
    "    if re_value is None:\n",
    "        m_node = Node(m_label, **m_attrs)\n",
    "        n = m_graph.create(m_node)\n",
    "        return n\n",
    "    return None\n",
    "\n",
    "\n",
    "# 创建两个节点的关系，如果节点不存在，不创建关系\n",
    "def create_relationship(m_graph, m_label1, m_attrs1, m_label2, m_attrs2, m_r_name):\n",
    "    re_value1 = match_node(m_graph, m_label1, m_attrs1)\n",
    "    re_value2 = match_node(m_graph, m_label2, m_attrs2)\n",
    "    if re_value1 is None or re_value2 is None:\n",
    "        return False\n",
    "    m_r = Relationship(re_value1, m_r_name, re_value2)\n",
    "    n = m_graph.create(m_r)\n",
    "    return n"
   ]
  },
  {
   "cell_type": "code",
   "execution_count": 11,
   "id": "aa1d821c",
   "metadata": {},
   "outputs": [],
   "source": [
    "# 找到所有节点\n",
    "nodes = matcher.match('Test')"
   ]
  },
  {
   "cell_type": "code",
   "execution_count": 12,
   "id": "f4a22f1b",
   "metadata": {},
   "outputs": [
    {
     "name": "stdout",
     "output_type": "stream",
     "text": [
      "10\n"
     ]
    }
   ],
   "source": [
    "print(len(nodes))"
   ]
  },
  {
   "cell_type": "code",
   "execution_count": 24,
   "id": "9b5169d5",
   "metadata": {},
   "outputs": [],
   "source": [
    "g.delete_all()"
   ]
  },
  {
   "cell_type": "code",
   "execution_count": 23,
   "id": "491b5e35",
   "metadata": {},
   "outputs": [
    {
     "name": "stdout",
     "output_type": "stream",
     "text": [
      "(:People {age: '34', name: 'blue'})\n",
      "(:People {age: '32', name: 'susan'})\n",
      "(:People {age: '2', name: 'allison'})\n",
      "(blue)-[:wife {}]->(susan)\n",
      "(susan)-[:husband {}]->(blue)\n",
      "(allison)-[:mother {}]->(susan)\n",
      "(allison)-[:father {}]->(blue)\n"
     ]
    }
   ],
   "source": [
    "blue = Node('People', name='blue',age='34')\n",
    "susan = Node('People', name='susan',age='32')\n",
    "allison = Node('People', name='allison',age='2')\n",
    "wife = Relationship(blue, 'wife', susan)\n",
    "husband = Relationship(susan, 'husband', blue)\n",
    "mother = Relationship(allison, 'mother', susan)\n",
    "father = Relationship(allison, 'father', blue)\n",
    "print(blue)\n",
    "print(susan)\n",
    "print(allison)\n",
    "print(wife)\n",
    "print(husband)\n",
    "print(mother)\n",
    "print(father)\n"
   ]
  },
  {
   "cell_type": "code",
   "execution_count": 26,
   "id": "8bfbeb93",
   "metadata": {},
   "outputs": [],
   "source": [
    "g.create(wife)\n",
    "g.create(husband)\n",
    "g.create(mother)\n",
    "g.create(father)\n",
    "\n"
   ]
  },
  {
   "cell_type": "code",
   "execution_count": 20,
   "id": "d06ee71d",
   "metadata": {},
   "outputs": [
    {
     "name": "stdout",
     "output_type": "stream",
     "text": [
      "(_0:Man {age: 23, desc: '2021', location: '\\u4e0a\\u6d77', name: 'Amy'}) (_1:Man {age: 21, desc: '2022', name: 'Bob4'}) (Amy)-[:KNOWS {location: '\\u5f52\\u5c5e\\u5730', time: '2017/08/31'}]->(Bob4)\n"
     ]
    }
   ],
   "source": [
    "  print(a, b, r)\n",
    "    "
   ]
  },
  {
   "cell_type": "code",
   "execution_count": 19,
   "id": "d9b68494",
   "metadata": {},
   "outputs": [],
   "source": [
    "    # 添加关系relationship\n",
    "    g.create(r)"
   ]
  },
  {
   "cell_type": "code",
   "execution_count": 22,
   "id": "9f9a84ba",
   "metadata": {},
   "outputs": [
    {
     "name": "stdout",
     "output_type": "stream",
     "text": [
      "(_0:Man {age: 23, desc: '2021', location: '\\u4e0a\\u6d77', name: 'Amy'}) (_1:Man {age: 21, desc: '2022', name: 'Bob4'}) (Amy)-[:KNOWS {location: '\\u5f52\\u5c5e\\u5730', time: '2017/08/31'}]->(Bob4)\n"
     ]
    },
    {
     "data": {
      "text/html": [
       "(No data)"
      ],
      "text/plain": [
       "(No data)"
      ]
     },
     "execution_count": 22,
     "metadata": {},
     "output_type": "execute_result"
    }
   ],
   "source": [
    "    y=a|b|r\n",
    "    g.create(y)\n",
    "\n",
    "    # 添加节点Node\n",
    "    g.create(c)\n",
    "    print(a, b, r)\n",
    "    # 添加关系\n",
    "    g.run(\"match (p:Post),(u:User) \\\n",
    "                    where p.OwnerUserId = u.Id \\\n",
    "                    create (u)-[:Own]->(p)\")\n"
   ]
  },
  {
   "cell_type": "code",
   "execution_count": null,
   "id": "899d6d38",
   "metadata": {},
   "outputs": [],
   "source": []
  }
 ],
 "metadata": {
  "kernelspec": {
   "display_name": "Python 3 (ipykernel)",
   "language": "python",
   "name": "python3"
  },
  "language_info": {
   "codemirror_mode": {
    "name": "ipython",
    "version": 3
   },
   "file_extension": ".py",
   "mimetype": "text/x-python",
   "name": "python",
   "nbconvert_exporter": "python",
   "pygments_lexer": "ipython3",
   "version": "3.8.8"
  }
 },
 "nbformat": 4,
 "nbformat_minor": 5
}
